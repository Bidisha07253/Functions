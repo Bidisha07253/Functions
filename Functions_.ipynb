{
  "nbformat": 4,
  "nbformat_minor": 0,
  "metadata": {
    "colab": {
      "provenance": []
    },
    "kernelspec": {
      "name": "python3",
      "display_name": "Python 3"
    },
    "language_info": {
      "name": "python"
    }
  },
  "cells": [
    {
      "cell_type": "markdown",
      "source": [
        "#**Theory Questions:**\n",
        "\n",
        "1. What is the difference between a function and a method in Python?\n",
        "\n",
        "* A function is a structured, reusable code block utilized for carrying out a specific task. Functions facilitate the creation of modular code, simplifying maintenance and reusability.\n",
        "\n",
        "* Methods, however, are functions defined within classes and are tightly bound to the objects they belong to. They are essential in object-oriented programming (OOP), as they enable objects to exhibit behaviors and interact with their own data."
      ],
      "metadata": {
        "id": "unqTLW-p3IQ7"
      }
    },
    {
      "cell_type": "markdown",
      "source": [
        "###**Example for function:**"
      ],
      "metadata": {
        "id": "sGK4KXol-Sec"
      }
    },
    {
      "cell_type": "code",
      "source": [
        " def greet(name):\n",
        "  return f\"Hello, {name}!\"\n",
        "\n",
        "message = greet(\"Alice\")\n",
        "print(message)"
      ],
      "metadata": {
        "colab": {
          "base_uri": "https://localhost:8080/"
        },
        "id": "ihOnKNl455dJ",
        "outputId": "6c5653f4-3e59-42a1-b464-3145b790851d"
      },
      "execution_count": null,
      "outputs": [
        {
          "output_type": "stream",
          "name": "stdout",
          "text": [
            "Hello, Alice!\n"
          ]
        }
      ]
    },
    {
      "cell_type": "markdown",
      "source": [
        "###**Example for method:**"
      ],
      "metadata": {
        "id": "UnwVeiz7_V9F"
      }
    },
    {
      "cell_type": "code",
      "source": [
        "import math\n",
        "\n",
        "ceil_val = math.ceil(15.25)\n",
        "print( \"Ceiling value of 15.25 is : \", ceil_val)"
      ],
      "metadata": {
        "colab": {
          "base_uri": "https://localhost:8080/"
        },
        "id": "oO9RdWmi_vd7",
        "outputId": "ed476fb4-839f-46cc-c237-3fd5c21e683a"
      },
      "execution_count": null,
      "outputs": [
        {
          "output_type": "stream",
          "name": "stdout",
          "text": [
            "Ceiling value of 15.25 is :  16\n"
          ]
        }
      ]
    },
    {
      "cell_type": "markdown",
      "source": [
        "2. Explain the concept of function arguments and parameters in Python.\n",
        "\n",
        "*  Parameters are variables that act as placeholders for values a function expects to receive when it's called. They are defined in the function's parentheses during its declaration.\n",
        "\n",
        "*  Arguments are the actual values or data passed to a function when it is invoked."
      ],
      "metadata": {
        "id": "71-IIA8qAL-P"
      }
    },
    {
      "cell_type": "markdown",
      "source": [
        "EXAMPLE :In def greet(name, age):, name and age are parameters.\n",
        "\n",
        "In greet(\"Alice\", 30), \"Alice\" and 30 are arguments."
      ],
      "metadata": {
        "id": "Ka0ji9lWJRV6"
      }
    },
    {
      "cell_type": "markdown",
      "source": [
        "3. What are the different ways to define and call a function in Python?\n",
        "\n",
        "* To define a function in Python is by using the def keyword.\n",
        "\n",
        "* Once a function is defined, you can call it to execute its code."
      ],
      "metadata": {
        "id": "sO-VXVGPcnDI"
      }
    },
    {
      "cell_type": "code",
      "source": [
        "#Define Example:-\n",
        " def function_name(parameters):\n",
        "\n",
        "#Call Example:-\n",
        "\n",
        "greet(\"Alice\")\n",
        "sum_result = add_numbers(5, 3)\n",
        "print(sum_result)"
      ],
      "metadata": {
        "id": "h7Klvv2XdeTx"
      },
      "execution_count": null,
      "outputs": []
    },
    {
      "cell_type": "markdown",
      "source": [
        "4. What is the purpose of the `return` statement in a Python function?\n",
        "\n",
        "* When a return statement is encountered within a function, the function's execution is immediately stopped. Any code or statements present after the return statement within the function's block will not be executed. Control is then transferred back to the point in the code where the function was called.\n",
        "\n",
        "* The return statement is used to pass back a value (or object) from the function to the part of the code that called it. This value can then be stored in a variable, used in expressions, or passed as an argument to other functions.\n"
      ],
      "metadata": {
        "id": "8ywUxpRbd6Ov"
      }
    },
    {
      "cell_type": "code",
      "source": [
        "def add (a,b):\n",
        "\n",
        "  \"\"\"This function will do the addition of 2 numbers.\"\"\"\n",
        "\n",
        "  return a+b\n",
        "\n",
        "sum_result = add(5, 3)\n",
        "print(sum_result)\n"
      ],
      "metadata": {
        "colab": {
          "base_uri": "https://localhost:8080/"
        },
        "id": "mwkrvKJRfQOz",
        "outputId": "924d3b36-48d4-4e52-adb0-c46ee6e234df"
      },
      "execution_count": null,
      "outputs": [
        {
          "output_type": "stream",
          "name": "stdout",
          "text": [
            "8\n"
          ]
        }
      ]
    },
    {
      "cell_type": "markdown",
      "source": [
        "5. What are iterators in Python and how do they differ from iterables?\n",
        "\n",
        "* An iterable is anything you can loop through using after loop.\n",
        "example:- list, tuple, string, set, dict\n",
        "\n",
        "* An iterator is an object that keep track of where you are in iterable.\n"
      ],
      "metadata": {
        "id": "NNC7W__XgOlx"
      }
    },
    {
      "cell_type": "code",
      "source": [
        "#example for iterator\n",
        "\n",
        "l1 = [1,2,3,4,5]\n",
        "res = iter(l1)\n"
      ],
      "metadata": {
        "id": "OP2du7Ahg3Ad"
      },
      "execution_count": null,
      "outputs": []
    },
    {
      "cell_type": "code",
      "source": [
        "next(res)"
      ],
      "metadata": {
        "colab": {
          "base_uri": "https://localhost:8080/"
        },
        "id": "b27OLgW7haST",
        "outputId": "eadbd8a8-2866-4337-ab6a-cbd081df4f91"
      },
      "execution_count": null,
      "outputs": [
        {
          "output_type": "execute_result",
          "data": {
            "text/plain": [
              "4"
            ]
          },
          "metadata": {},
          "execution_count": 19
        }
      ]
    },
    {
      "cell_type": "markdown",
      "source": [
        "6. Explain the concept of generators in Python and how they are defined.\n",
        "\n",
        "* A generator is special type of iterator that is used to generate values on the fly(one at a time) without storing that entire sequence in memory.\n"
      ],
      "metadata": {
        "id": "pM_fB87BdY3o"
      }
    },
    {
      "cell_type": "code",
      "source": [
        "#example\n",
        "\n",
        "def count_up_to(n):\n",
        "  count=1\n",
        "  while count <= n:\n",
        "    yield count\n",
        "    count += 1"
      ],
      "metadata": {
        "id": "NwBM79rwh9le"
      },
      "execution_count": null,
      "outputs": []
    },
    {
      "cell_type": "code",
      "source": [
        "gen=count_up_to(5)"
      ],
      "metadata": {
        "id": "NvydODoXj5oX"
      },
      "execution_count": null,
      "outputs": []
    },
    {
      "cell_type": "code",
      "source": [
        "next(gen)"
      ],
      "metadata": {
        "colab": {
          "base_uri": "https://localhost:8080/"
        },
        "id": "hwZZQu4qkGQp",
        "outputId": "4a5c3362-d795-48ea-9072-0e21479822f0"
      },
      "execution_count": null,
      "outputs": [
        {
          "output_type": "execute_result",
          "data": {
            "text/plain": [
              "1"
            ]
          },
          "metadata": {},
          "execution_count": 32
        }
      ]
    },
    {
      "cell_type": "markdown",
      "source": [
        "7. What are the advantages of using generators over regular functions?\n",
        "\n",
        "* Generators usually memory efficient(lazy evaluated) than regular function.\n",
        "\n",
        "Example:- Generating a large sequence of numbers using a list comprehension compared to a generator expression clearly demonstrates the memory savings.\n",
        "\n",
        "This means they don't store the entire sequence in memory at once, consuming significantly less memory than regular functions that build and return complete lists."
      ],
      "metadata": {
        "id": "CQzehAOokSN_"
      }
    },
    {
      "cell_type": "markdown",
      "source": [
        "8.  What is a lambda function in Python and when is it typically used?\n",
        "\n",
        "* Lambda function is a nameless function that is defined using Lambda keyword.\n"
      ],
      "metadata": {
        "id": "Dj4-iYd8lbcs"
      }
    },
    {
      "cell_type": "code",
      "source": [
        "#example\n",
        "\n",
        "result = lambda a,b : a+b"
      ],
      "metadata": {
        "id": "Xmpobu1JmFmA"
      },
      "execution_count": null,
      "outputs": []
    },
    {
      "cell_type": "code",
      "source": [
        "result (2,3)"
      ],
      "metadata": {
        "colab": {
          "base_uri": "https://localhost:8080/"
        },
        "id": "tDjlsCVEmT3_",
        "outputId": "da0f6e7a-3681-461a-b78d-728c7b61593e"
      },
      "execution_count": null,
      "outputs": [
        {
          "output_type": "execute_result",
          "data": {
            "text/plain": [
              "5"
            ]
          },
          "metadata": {},
          "execution_count": 35
        }
      ]
    },
    {
      "cell_type": "code",
      "source": [
        "type(result)"
      ],
      "metadata": {
        "colab": {
          "base_uri": "https://localhost:8080/"
        },
        "id": "L0elR8Y1maTe",
        "outputId": "a41e645d-9d20-43e6-f200-6fc0329cac15"
      },
      "execution_count": null,
      "outputs": [
        {
          "output_type": "execute_result",
          "data": {
            "text/plain": [
              "function"
            ]
          },
          "metadata": {},
          "execution_count": 36
        }
      ]
    },
    {
      "cell_type": "markdown",
      "source": [
        " 9. Explain the purpose and usage of the `map()` function in Python.\n",
        "\n",
        " * Map function is use to apply a function to every element/item in iterable(loop).\n"
      ],
      "metadata": {
        "id": "XSLSh1upmgWw"
      }
    },
    {
      "cell_type": "code",
      "source": [
        "#example\n",
        "\n",
        "nums = [1, 2, 3, 4]\n"
      ],
      "metadata": {
        "id": "ocVNoYexm-cH"
      },
      "execution_count": null,
      "outputs": []
    },
    {
      "cell_type": "code",
      "source": [
        "list(map(lambda x:x*x,nums))"
      ],
      "metadata": {
        "colab": {
          "base_uri": "https://localhost:8080/"
        },
        "id": "RbJ4raznnHEe",
        "outputId": "e978e44c-612e-4c58-a549-a489d514b92f"
      },
      "execution_count": null,
      "outputs": [
        {
          "output_type": "execute_result",
          "data": {
            "text/plain": [
              "[1, 4, 9, 16]"
            ]
          },
          "metadata": {},
          "execution_count": 44
        }
      ]
    },
    {
      "cell_type": "markdown",
      "source": [
        "10. What is the difference between `map()`, `reduce()`, and `filter()` functions in Python?\n",
        "\n",
        "* map(), reduce(), and filter() are higher-order functions in Python, which means they take other functions as arguments. They are used to process iterables (like lists, tuples, etc.) in a functional programming style. The key difference between them lies in the type of operation they perform and the kind of output they return.\n",
        "\n"
      ],
      "metadata": {
        "id": "6tnl5DXIoFXd"
      }
    },
    {
      "cell_type": "code",
      "source": [
        "#example map()\n",
        "numbers = [1, 2, 3, 4, 5]\n",
        "\n",
        "# Using a lambda function to square each number\n",
        "squared_numbers = list(map(lambda x: x**2, numbers))\n",
        "print(squared_numbers)"
      ],
      "metadata": {
        "colab": {
          "base_uri": "https://localhost:8080/"
        },
        "id": "r_4BWohIo8pV",
        "outputId": "e6bed6dc-b556-478f-a791-edf3efb4f036"
      },
      "execution_count": null,
      "outputs": [
        {
          "output_type": "stream",
          "name": "stdout",
          "text": [
            "[1, 4, 9, 16, 25]\n"
          ]
        }
      ]
    },
    {
      "cell_type": "code",
      "source": [
        "#example reduce()\n",
        "\n",
        "numbers = [1, 2, 3, 4, 5, 6, 7, 8, 9, 10]\n",
        "\n",
        "# Using a lambda function to filter even numbers\n",
        "even_numbers = list(filter(lambda x: x % 2 == 0, numbers))\n",
        "print(even_numbers)\n"
      ],
      "metadata": {
        "colab": {
          "base_uri": "https://localhost:8080/"
        },
        "id": "xWsU4KiapLRo",
        "outputId": "28734951-284f-4100-99c1-3a0deb258b31"
      },
      "execution_count": null,
      "outputs": [
        {
          "output_type": "stream",
          "name": "stdout",
          "text": [
            "[2, 4, 6, 8, 10]\n"
          ]
        }
      ]
    },
    {
      "cell_type": "code",
      "source": [
        "#example filter()\n",
        "\n",
        "from functools import reduce\n",
        "\n",
        "numbers = [1, 2, 3, 4, 5]\n",
        "\n",
        "# Using a lambda function to sum all numbers in the list\n",
        "total_sum = reduce(lambda x, y: x + y, numbers)\n",
        "print(total_sum)\n"
      ],
      "metadata": {
        "colab": {
          "base_uri": "https://localhost:8080/"
        },
        "id": "9MANjgywpPM_",
        "outputId": "af0d188e-5ff4-4b68-95f9-6a9635e65f71"
      },
      "execution_count": null,
      "outputs": [
        {
          "output_type": "stream",
          "name": "stdout",
          "text": [
            "15\n"
          ]
        }
      ]
    },
    {
      "cell_type": "markdown",
      "source": [
        "11. Using pen & Paper write the internal mechanism for sum operation using  reduce function on this given\n",
        "list:[47,11,42,13];\n",
        "\n",
        "![WhatsApp Image 2025-07-30 at 4.35.28 PM.jpeg](data:image/jpeg;base64,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)\n"
      ],
      "metadata": {
        "id": "W5ZKYBSxpvOs"
      }
    },
    {
      "cell_type": "markdown",
      "source": [
        "#Practical Questions"
      ],
      "metadata": {
        "id": "N-T0NyE3qwKI"
      }
    },
    {
      "cell_type": "code",
      "source": [
        "#1.  Write a Python function that takes a list of numbers as input and returns the sum of all even numbers in the list.\n",
        "\n",
        "def sum_even_numbers(numbers):\n",
        "    sum_even = 0\n",
        "    for num in numbers:\n",
        "        if num % 2 == 0:\n",
        "            sum_even += num\n",
        "    return sum_even\n"
      ],
      "metadata": {
        "id": "V0V0GnNEq9de"
      },
      "execution_count": null,
      "outputs": []
    },
    {
      "cell_type": "code",
      "source": [
        "nums = [1, 2, 3, 4, 5, 6, 7, 8, 9, 10]\n",
        "sum_even_numbers(nums)"
      ],
      "metadata": {
        "colab": {
          "base_uri": "https://localhost:8080/"
        },
        "id": "dL1fjsoMrP0V",
        "outputId": "3ed8f1ad-8393-4e05-983b-cf463a38cd28"
      },
      "execution_count": null,
      "outputs": [
        {
          "output_type": "execute_result",
          "data": {
            "text/plain": [
              "30"
            ]
          },
          "metadata": {},
          "execution_count": 56
        }
      ]
    },
    {
      "cell_type": "code",
      "source": [
        "#2. Create a Python function that accepts a string and returns the reverse of that string.\n",
        "\n",
        "def reverse_string(input_string):\n",
        "    reversed_string = \"\"\n",
        "    for char in input_string:\n",
        "        reversed_string = char + reversed_string\n",
        "    return reversed_string"
      ],
      "metadata": {
        "id": "WIqAyISfrWFz"
      },
      "execution_count": null,
      "outputs": []
    },
    {
      "cell_type": "code",
      "source": [
        "string = \"Hello, World!\"\n",
        "reverse_string(string)"
      ],
      "metadata": {
        "colab": {
          "base_uri": "https://localhost:8080/",
          "height": 36
        },
        "id": "bqzsVadTrgc9",
        "outputId": "aac778fb-3454-442c-bb0f-fbfa503c614e"
      },
      "execution_count": null,
      "outputs": [
        {
          "output_type": "execute_result",
          "data": {
            "text/plain": [
              "'!dlroW ,olleH'"
            ],
            "application/vnd.google.colaboratory.intrinsic+json": {
              "type": "string"
            }
          },
          "metadata": {},
          "execution_count": 60
        }
      ]
    },
    {
      "cell_type": "code",
      "source": [
        "#3.  Implement a Python function that takes a list of integers and returns a new list containing the squares of each numbers.\n",
        "\n",
        "def square_numbers(numbers):\n",
        "    squared_numbers = []\n",
        "    for num in numbers:\n",
        "        squared_numbers.append(num ** 2)\n",
        "    return squared_numbers"
      ],
      "metadata": {
        "id": "8G2neOI4rlp9"
      },
      "execution_count": null,
      "outputs": []
    },
    {
      "cell_type": "code",
      "source": [
        "numbers = [1, 2, 3, 4, 5]\n",
        "square_numbers(numbers)"
      ],
      "metadata": {
        "colab": {
          "base_uri": "https://localhost:8080/"
        },
        "id": "zUL0-aN0rxl-",
        "outputId": "33766f5b-649a-41d5-d17a-cdb181accf96"
      },
      "execution_count": null,
      "outputs": [
        {
          "output_type": "execute_result",
          "data": {
            "text/plain": [
              "[1, 4, 9, 16, 25]"
            ]
          },
          "metadata": {},
          "execution_count": 64
        }
      ]
    },
    {
      "cell_type": "code",
      "source": [
        "#4. Write a Python function that checks if a given number is prime or not from 1 to 200.\n",
        "\n",
        "\n",
        "def is_prime(number):\n",
        "  if number > 1:\n",
        "    for i in range(2,number):\n",
        "      if (number % i) == 0:\n",
        "        return False\n",
        "    return True\n",
        "  else:\n",
        "    return False\n",
        "\n",
        "number = int(input(\"Enter a number to check: \"))\n",
        "\n",
        "if is_prime(number):\n",
        "  print(f\"{number} is a prime number.\")\n",
        "else:\n",
        "  print(f\"{number} is not a prime number.\")\n"
      ],
      "metadata": {
        "colab": {
          "base_uri": "https://localhost:8080/"
        },
        "id": "bq9vOEa_r2K9",
        "outputId": "37780978-337e-4884-8e8e-56ddd101a6a3"
      },
      "execution_count": null,
      "outputs": [
        {
          "output_type": "stream",
          "name": "stdout",
          "text": [
            "Enter a number to check: 83\n",
            "83 is a prime number.\n"
          ]
        }
      ]
    },
    {
      "cell_type": "code",
      "source": [
        "class FibonacciIterator:\n",
        "    \"\"\"\n",
        "    An iterator that generates the Fibonacci sequence up to a specified number of terms.\n",
        "    \"\"\"\n",
        "    def __init__(self, num_terms):\n",
        "        \"\"\"\n",
        "        Initializes the FibonacciIterator.\n",
        "\n",
        "        Args:\n",
        "            num_terms (int): The number of terms to generate in the Fibonacci sequence.\n",
        "        \"\"\"\n",
        "        if num_terms < 0:\n",
        "            raise ValueError(\"Number of terms cannot be negative.\")\n",
        "        self.num_terms = num_terms\n",
        "        self.a = 0\n",
        "        self.b = 1\n",
        "        self.count = 0\n",
        "\n",
        "    def __iter__(self):\n",
        "        \"\"\"\n",
        "        Returns the iterator object itself.\n",
        "        \"\"\"\n",
        "        return self\n",
        "\n",
        "    def __next__(self):\n",
        "        \"\"\"\n",
        "        Generates the next number in the Fibonacci sequence.\n",
        "\n",
        "        Returns:\n",
        "            int: The next Fibonacci number.\n",
        "\n",
        "        Raises:\n",
        "            StopIteration: When all terms have been generated.\n",
        "        \"\"\"\n",
        "        if self.count < self.num_terms:\n",
        "            if self.count == 0:\n",
        "                self.count += 1\n",
        "                return self.a\n",
        "            elif self.count == 1:\n",
        "                self.count += 1\n",
        "                return self.b\n",
        "            else:\n",
        "                next_fib = self.a + self.b\n",
        "                self.a = self.b\n",
        "                self.b = next_fib\n",
        "                self.count += 1\n",
        "                return next_fib\n",
        "        else:\n",
        "            raise StopIteration\n",
        "\n",
        "# Example usage:\n",
        "print(\"Generating the Fibonacci sequence for 10 terms:\")\n",
        "fib_iter = FibonacciIterator(10)\n",
        "for num in fib_iter:\n",
        "    print(num, end=\" \") # 1.1.8\n",
        "print(\"\\n\")\n",
        "\n",
        "print(\"Generating the Fibonacci sequence for 5 terms:\")\n",
        "fib_iter2 = FibonacciIterator(5)\n",
        "print(next(fib_iter2))  # Output: 0\n",
        "print(next(fib_iter2))  # Output: 1\n",
        "print(next(fib_iter2))  # Output: 1\n",
        "print(next(fib_iter2))  # Output: 2\n",
        "print(next(fib_iter2))  # Output: 3\n",
        "\n",
        "try:\n",
        "    print(next(fib_iter2))  # This will raise StopIteration\n",
        "except StopIteration:\n",
        "    print(\"No more Fibonacci numbers to generate.\")"
      ],
      "metadata": {
        "colab": {
          "base_uri": "https://localhost:8080/"
        },
        "id": "1dGOR2qk-oCA",
        "outputId": "a4818158-a8e7-4e9c-884d-0fe82733589d"
      },
      "execution_count": null,
      "outputs": [
        {
          "output_type": "stream",
          "name": "stdout",
          "text": [
            "Generating the Fibonacci sequence for 10 terms:\n",
            "0 1 1 2 3 5 8 13 21 34 \n",
            "\n",
            "Generating the Fibonacci sequence for 5 terms:\n",
            "0\n",
            "1\n",
            "1\n",
            "2\n",
            "3\n",
            "No more Fibonacci numbers to generate.\n"
          ]
        }
      ]
    },
    {
      "cell_type": "code",
      "source": [
        "#5. Write a generator function in Python that yields the powers of 2 up to a given exponent.\n",
        "\n",
        "def count_up_to(n):\n",
        "  count=2\n",
        "  while count <= n:\n",
        "    yield count\n",
        "    count += 2"
      ],
      "metadata": {
        "id": "6sxj-Mox_OCB"
      },
      "execution_count": 8,
      "outputs": []
    },
    {
      "cell_type": "code",
      "source": [
        "gen = count_up_to(10)"
      ],
      "metadata": {
        "id": "CLdLBiuqxSTh"
      },
      "execution_count": 18,
      "outputs": []
    },
    {
      "cell_type": "code",
      "source": [
        "next(gen)"
      ],
      "metadata": {
        "colab": {
          "base_uri": "https://localhost:8080/"
        },
        "id": "YVd5fkBDxV-N",
        "outputId": "d115582b-2049-47af-f28e-2c4453724b77"
      },
      "execution_count": 19,
      "outputs": [
        {
          "output_type": "execute_result",
          "data": {
            "text/plain": [
              "2"
            ]
          },
          "metadata": {},
          "execution_count": 19
        }
      ]
    },
    {
      "cell_type": "code",
      "source": [
        "#6. Implement a generator function that reads a file line by line and yields each line as a string.\n",
        "\n",
        "def read_file_lines(file_path):\n",
        "    with open(file_path, 'r') as file:\n",
        "        for line in file:\n",
        "            yield line\n"
      ],
      "metadata": {
        "id": "rGBG8yKoxn8h"
      },
      "execution_count": 27,
      "outputs": []
    },
    {
      "cell_type": "code",
      "source": [
        "with open(\"my_data.txt\", \"w\") as f:\n",
        "    f.write(\"Line 1 of data\\n\")\n",
        "    f.write(\"Line 2 of data\\n\")\n",
        "    f.write(\"Last line without a newline\")"
      ],
      "metadata": {
        "id": "raistoNmzuss"
      },
      "execution_count": 28,
      "outputs": []
    },
    {
      "cell_type": "code",
      "source": [
        "for file_line in read_file_lines(\"my_data.txt\"):\n",
        "    print(file_line, end='')"
      ],
      "metadata": {
        "colab": {
          "base_uri": "https://localhost:8080/"
        },
        "id": "ygMk8IEM0R7X",
        "outputId": "f5feef1a-6fee-40ea-9497-1748673280cb"
      },
      "execution_count": 29,
      "outputs": [
        {
          "output_type": "stream",
          "name": "stdout",
          "text": [
            "Line 1 of data\n",
            "Line 2 of data\n",
            "Last line without a newline"
          ]
        }
      ]
    },
    {
      "cell_type": "code",
      "source": [
        "#7. Use a lambda function in Python to sort a list of tuples based on the second element of each tuple.\n",
        "\n",
        "d1 = [('apple', 3), ('banana', 1), ('cherry', 2)]\n",
        "\n",
        "sorted_list = sorted(d1, key=lambda x: x[1])\n",
        "print(f\"Sorted using sorted() function: {('apple', 3), ('banana', 1), ('cherry', 2)}\")\n"
      ],
      "metadata": {
        "colab": {
          "base_uri": "https://localhost:8080/"
        },
        "id": "kJ4zeNWc0VQ3",
        "outputId": "d99971e7-da68-4054-e95c-30852a9fee81"
      },
      "execution_count": 37,
      "outputs": [
        {
          "output_type": "stream",
          "name": "stdout",
          "text": [
            "Sorted using sorted() function: (('apple', 3), ('banana', 1), ('cherry', 2))\n"
          ]
        }
      ]
    },
    {
      "cell_type": "code",
      "source": [
        "#8. Use a lambda function in Python to sort a list of tuples based on the second element of each tuple.\n",
        "\n",
        "subject_marks = [('English', 88), ('Science', 90), ('Maths', 97), ('Social sciences', 82)]\n",
        "sorted_marks = sorted(subject_marks, key=lambda x: x[1])\n",
        "print(sorted_marks)"
      ],
      "metadata": {
        "colab": {
          "base_uri": "https://localhost:8080/"
        },
        "id": "Wc4akHLM1eKG",
        "outputId": "55c520c3-e6ed-44a8-c2c3-e9f9b771a9b6"
      },
      "execution_count": 44,
      "outputs": [
        {
          "output_type": "stream",
          "name": "stdout",
          "text": [
            "[('Social sciences', 82), ('English', 88), ('Science', 90), ('Maths', 97)]\n"
          ]
        }
      ]
    },
    {
      "cell_type": "code",
      "source": [
        "#9.Write a Python program that uses `map()` to convert a list of temperatures from Celsius to Fahrenheit.\n",
        "\n",
        "celsius_temperatures = [0, 10, 20, 30, 40]\n",
        "\n",
        "fahrenheit_temperatures = list(map(lambda celsius: (celsius * 9/5) + 32, celsius_temperatures))\n",
        "print(fahrenheit_temperatures)\n"
      ],
      "metadata": {
        "colab": {
          "base_uri": "https://localhost:8080/"
        },
        "id": "m0rg6h_y2jgA",
        "outputId": "22acbc91-f036-40e6-a567-9bdfa65fbb12"
      },
      "execution_count": 47,
      "outputs": [
        {
          "output_type": "stream",
          "name": "stdout",
          "text": [
            "[32.0, 50.0, 68.0, 86.0, 104.0]\n"
          ]
        }
      ]
    },
    {
      "cell_type": "code",
      "source": [
        "#10.  Create a Python program that uses `filter()` to remove all the vowels from a given string.\n",
        "\n",
        "def remove_vowels(input_string):\n",
        "    vowels = \"aeiouAEIOU\"\n",
        "    filtered_string = \"\"\n",
        "    for char in input_string:\n",
        "        if char not in vowels:\n",
        "            filtered_string += char\n",
        "    return filtered_string\n",
        "\n"
      ],
      "metadata": {
        "id": "EaYwpVL_3J2Z"
      },
      "execution_count": 53,
      "outputs": []
    },
    {
      "cell_type": "code",
      "source": [
        "    string = \"Hello, World!\"\n",
        "    result = remove_vowels(input_string)\n",
        "    print(result)"
      ],
      "metadata": {
        "colab": {
          "base_uri": "https://localhost:8080/"
        },
        "id": "Ecd0iKV-3cWR",
        "outputId": "33142eb8-0a82-41ac-80dc-4c6c960be6dc"
      },
      "execution_count": 56,
      "outputs": [
        {
          "output_type": "stream",
          "name": "stdout",
          "text": [
            "Hll, Wrld!\n"
          ]
        }
      ]
    },
    {
      "cell_type": "code",
      "source": [
        "#11. Imagine an accounting routine used in a book shop. It works on a list with sublists, which look like this:\n",
        "\n",
        "# ORDER NUMBERS        BOOK TITLE AND AUTHOR             QUANTITY        PRICE PER ITEM\n",
        "# 34587              LEARINING PYTHON, MARK LUTZ            4               40.95\n",
        "# 98762             PYTHON PROGRAMMING, MARK LUTZ           5               56.80\n",
        "# 77226             HEAD FIRST PYTHON, PAUL BARRY           3               32.95\n",
        "# 88112          EINFUHRUNG IN PYTHON 3, BERND KLEIN        3               24.99\n",
        "\n",
        "#Write a Python program, which returns a list with 2-tuples. Each tuple consists of the order number and the product of the price per item and the quantity. The product should be increased by 10,- € if the value of the order is smaller than 100,00 €.\n",
        "\n",
        "orders = [\n",
        "    [34587, \"Learning Python, Mark Lutz\", 4, 40.95],\n",
        "    [98762, \"Python Programming, Mark Lutz\", 5, 56.80],\n",
        "    [77226, \"Head First Python, Paul Barry\", 3, 32.95],\n",
        "    [88112, \"Einfuhrung in Python 3, Bernd Klein\", 3, 24.99]\n",
        "]\n",
        "\n",
        "def calculate_order_totals(order_list):\n",
        "    \"\"\"\n",
        "    Calculates order totals from a list of book shop orders.\n",
        "\n",
        "    Args:\n",
        "        order_list (list): A list of sublists, where each sublist represents an order\n",
        "                           in the format [order_number, book_title_author, quantity, price_per_item].\n",
        "\n",
        "    Returns:\n",
        "        list: A list of 2-tuples, where each tuple contains the order number and\n",
        "              the calculated total cost (increased by 10 EUR if the order value is < 100 EUR).\n",
        "    \"\"\"\n",
        "    result_list = []\n",
        "    for order in order_list:\n",
        "        order_number = order[0]\n",
        "        quantity = order[2]\n",
        "        price_per_item = order[3]\n",
        "\n",
        "        order_value = quantity * price_per_item\n",
        "\n",
        "        if order_value < 100.00:\n",
        "            final_order_value = order_value + 10.00\n",
        "        else:\n",
        "            final_order_value = order_value\n",
        "\n",
        "\n",
        "        result_list.append((order_number, round(final_order_value, 2)))\n",
        "    return result_list\n",
        "\n",
        "order_totals = calculate_order_totals(orders)\n",
        "print(order_totals)\n"
      ],
      "metadata": {
        "colab": {
          "base_uri": "https://localhost:8080/"
        },
        "id": "7YArgtzJ3iqA",
        "outputId": "85b6c810-aae6-4457-d657-ae693bff6e65"
      },
      "execution_count": 59,
      "outputs": [
        {
          "output_type": "stream",
          "name": "stdout",
          "text": [
            "[(34587, 163.8), (98762, 284.0), (77226, 108.85), (88112, 84.97)]\n"
          ]
        }
      ]
    },
    {
      "cell_type": "code",
      "source": [
        "#Write a Python program using lambda and map.\n",
        "\n",
        "#converting strings to upper case.\n",
        "\n",
        "names = [\"hello\", \"bidisha\", \"pw\", \"skills\"]\n"
      ],
      "metadata": {
        "id": "XTqoRjyl6G0L"
      },
      "execution_count": 61,
      "outputs": []
    },
    {
      "cell_type": "code",
      "source": [
        "names"
      ],
      "metadata": {
        "colab": {
          "base_uri": "https://localhost:8080/"
        },
        "id": "STQQWH9J8Uoy",
        "outputId": "dfd817dc-7295-4c48-864a-717bd81d00de"
      },
      "execution_count": 63,
      "outputs": [
        {
          "output_type": "execute_result",
          "data": {
            "text/plain": [
              "['hello', 'bidisha', 'pw', 'skills']"
            ]
          },
          "metadata": {},
          "execution_count": 63
        }
      ]
    },
    {
      "cell_type": "code",
      "source": [
        "list(map(lambda x:x.upper(),(names)))"
      ],
      "metadata": {
        "colab": {
          "base_uri": "https://localhost:8080/"
        },
        "id": "2Mnnf64u8W67",
        "outputId": "c07d9a48-a76f-41d6-9a3a-78cdde5186a2"
      },
      "execution_count": 64,
      "outputs": [
        {
          "output_type": "execute_result",
          "data": {
            "text/plain": [
              "['HELLO', 'BIDISHA', 'PW', 'SKILLS']"
            ]
          },
          "metadata": {},
          "execution_count": 64
        }
      ]
    }
  ]
}